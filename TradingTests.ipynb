{
 "cells": [
  {
   "cell_type": "code",
   "execution_count": null,
   "metadata": {},
   "outputs": [],
   "source": [
    "import yfinance as yf\n",
    "import pandas as pd\n",
    "import matplotlib.pyplot as plt\n",
    "\n",
    "df = yf.download('TSLA', period = '6mo') # Gets the last 6 months of Tesla data\n",
    "print(df.head())\n",
    "\n",
    "print(df.isnull().sum()) # Checks for missing data\n",
    "\n",
    "df = df.dropna() # Drops any NaN values if necessary\n",
    "\n",
    "Close_data = df # Prepare for functions\n",
    "\n",
    "plt.plot(df['Close'])\n",
    "plt.title('Closing Prices')\n",
    "plt.show()\n"
   ]
  },
  {
   "cell_type": "code",
   "execution_count": null,
   "metadata": {},
   "outputs": [],
   "source": [
    "import yfinance as yf\n",
    "import pandas as pd\n",
    "import matplotlib.pyplot as plt\n",
    "\n",
    "df = yf.download('TSLA', period = '5y')\n",
    "print(df.isnull().sum()) # Checks to see if there are any missing data\n",
    "df = df.dropna() # Gets rid of NaN data\n",
    "\n",
    "# print(f\"Date range: {df.index[0]} to {df.index[-1]}\") # Checks the full range of the data\n",
    "\n",
    "# print(df.head(20)) # Increases number to see more rows\n",
    "\n",
    "# print(df.tail()) # Prints the last 5 rows\n",
    "plt.figure(figsize=(10, 5)) # Creates a new figure\n",
    "plt.title('TESLA Closing Prices for the past 5 years')\n",
    "plt.xlabel('Date')\n",
    "plt.ylabel('Price (USD)')\n",
    "plt.plot(df['Close'])\n",
    "plt.grid(True)\n",
    "\n",
    "df['MA'] = df['Close'].rolling(20).mean().shift(1) # Calcualtes the simple MA and adds a column to the data frame\n",
    "\n",
    "# print(df.tail())\n",
    "plt.figure(figsize=(10, 5))\n",
    "plt.title('TESLA Closing Prices overlaid with simple moving average values')\n",
    "plt.plot(df['Close'], color = 'red') # Plots both the Close and the MA on the same figure\n",
    "plt.plot(df['MA'], color = 'blue')\n",
    "plt.xlabel('Date')\n",
    "plt.ylabel('Price (USD)')\n",
    "plt.grid(True)\n",
    "\n",
    "plt.show\n"
   ]
  },
  {
   "cell_type": "code",
   "execution_count": 34,
   "metadata": {},
   "outputs": [
    {
     "name": "stderr",
     "output_type": "stream",
     "text": [
      "C:\\Users\\HutchinsS\\AppData\\Local\\Temp\\ipykernel_26000\\2695627399.py:8: FutureWarning: YF.download() has changed argument auto_adjust default to True\n",
      "  df = yf.download(TICKER, period = PERIOD)\n",
      "[*********************100%***********************]  1 of 1 completed"
     ]
    },
    {
     "name": "stdout",
     "output_type": "stream",
     "text": [
      "Price            Close        High         Low        Open    Volume\n",
      "Ticker             SPY         SPY         SPY         SPY       SPY\n",
      "Date                                                                \n",
      "2025-07-23  634.210022  634.210022  629.729980  631.549988  70511000\n",
      "2025-07-24  634.419983  636.150024  633.989990  634.599976  71307100\n",
      "2025-07-25  637.099976  637.580017  634.840027  635.090027  56865400\n",
      "2025-07-28  636.940002  638.039978  635.539978  637.479980  54867000\n",
      "2025-07-29  635.599976  638.669983  634.700012  638.349976  33144869\n"
     ]
    },
    {
     "name": "stderr",
     "output_type": "stream",
     "text": [
      "\n"
     ]
    }
   ],
   "source": [
    "%reset -f\n",
    "import yfinance as yf\n",
    "import pandas as pd\n",
    "import matplotlib.pyplot as plt\n",
    "\n",
    "\n",
    "def get_data_from_yfinance(TICKER, PERIOD):\n",
    "    df = yf.download(TICKER, period = PERIOD)\n",
    "    df = df.dropna()\n",
    "\n",
    "    return df\n",
    "\n",
    "def main():\n",
    "    # Configuration\n",
    "\n",
    "    TICKER = 'SPY'\n",
    "    PERIOD = '5y'\n",
    "\n",
    "    # Workflow\n",
    "    df = get_data_from_yfinance(TICKER, PERIOD)\n",
    "    print(df.tail())\n",
    "\n",
    "if __name__ == '__main__':\n",
    "    main()\n",
    "\n",
    "\n"
   ]
  }
 ],
 "metadata": {
  "interpreter": {
   "hash": "06f8dfbcbedbc54eba54c9ba907e9633d1d515b42034b6386e215dd5eb362f50"
  },
  "kernelspec": {
   "display_name": "Python 3.12.10 64-bit ('myenv': venv)",
   "language": "python",
   "name": "python3"
  },
  "language_info": {
   "codemirror_mode": {
    "name": "ipython",
    "version": 3
   },
   "file_extension": ".py",
   "mimetype": "text/x-python",
   "name": "python",
   "nbconvert_exporter": "python",
   "pygments_lexer": "ipython3",
   "version": "3.12.10"
  },
  "orig_nbformat": 4
 },
 "nbformat": 4,
 "nbformat_minor": 2
}
